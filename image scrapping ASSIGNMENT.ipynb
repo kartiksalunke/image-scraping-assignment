{
 "cells": [
  {
   "cell_type": "code",
   "execution_count": 2,
   "id": "9a6806f1-01a8-47da-8b2f-14f7e572bfb1",
   "metadata": {},
   "outputs": [
    {
     "ename": "IndexError",
     "evalue": "list index out of range",
     "output_type": "error",
     "traceback": [
      "\u001b[0;31m---------------------------------------------------------------------------\u001b[0m",
      "\u001b[0;31mIndexError\u001b[0m                                Traceback (most recent call last)",
      "Cell \u001b[0;32mIn[2], line 53\u001b[0m\n\u001b[1;32m     51\u001b[0m         writer\u001b[38;5;241m.\u001b[39mwriterow([\u001b[38;5;124m'\u001b[39m\u001b[38;5;124mVideo URL\u001b[39m\u001b[38;5;124m'\u001b[39m, \u001b[38;5;124m'\u001b[39m\u001b[38;5;124mThumbnail URL\u001b[39m\u001b[38;5;124m'\u001b[39m, \u001b[38;5;124m'\u001b[39m\u001b[38;5;124mTitle\u001b[39m\u001b[38;5;124m'\u001b[39m, \u001b[38;5;124m'\u001b[39m\u001b[38;5;124mViews\u001b[39m\u001b[38;5;124m'\u001b[39m, \u001b[38;5;124m'\u001b[39m\u001b[38;5;124mPosting Time\u001b[39m\u001b[38;5;124m'\u001b[39m])\n\u001b[1;32m     52\u001b[0m         \u001b[38;5;28;01mfor\u001b[39;00m i \u001b[38;5;129;01min\u001b[39;00m \u001b[38;5;28mrange\u001b[39m(\u001b[38;5;241m5\u001b[39m):\n\u001b[0;32m---> 53\u001b[0m             writer\u001b[38;5;241m.\u001b[39mwriterow([\u001b[43mvideo_urls\u001b[49m\u001b[43m[\u001b[49m\u001b[43mi\u001b[49m\u001b[43m]\u001b[49m, video_thumbnails[i], video_titles[i], video_views[i], video_posting_times[i]])\n\u001b[1;32m     55\u001b[0m     \u001b[38;5;28mprint\u001b[39m(\u001b[38;5;124m\"\u001b[39m\u001b[38;5;124mData scraped and saved to youtube_data.csv\u001b[39m\u001b[38;5;124m\"\u001b[39m)\n\u001b[1;32m     56\u001b[0m \u001b[38;5;28;01melse\u001b[39;00m:\n",
      "\u001b[0;31mIndexError\u001b[0m: list index out of range"
     ]
    }
   ],
   "source": [
    "import requests\n",
    "from bs4 import BeautifulSoup\n",
    "import csv\n",
    "\n",
    "# URL of the YouTube channel\n",
    "url = \"https://www.youtube.com/@PW-Foundation/videos\"\n",
    "\n",
    "# Send an HTTP GET request to the URL\n",
    "response = requests.get(url)\n",
    "\n",
    "# Check if the request was successful\n",
    "if response.status_code == 200:\n",
    "    # Parse the HTML content of the page\n",
    "    soup = BeautifulSoup(response.text, 'html.parser')\n",
    "\n",
    "    # Find the video elements (you may need to inspect the HTML structure to get the correct selector)\n",
    "    video_elements = soup.find_all('a', class_='yt-simple-endpoint style-scope ytd-grid-video-renderer')\n",
    "\n",
    "    # Initialize lists to store data\n",
    "    video_urls = []\n",
    "    video_thumbnails = []\n",
    "    video_titles = []\n",
    "    video_views = []\n",
    "    video_posting_times = []\n",
    "\n",
    "    # Extract information for the first five videos\n",
    "    for video_element in video_elements[:5]:\n",
    "        # Video URL\n",
    "        video_url = \"https://www.youtube.com\" + video_element['href']\n",
    "        video_urls.append(video_url)\n",
    "\n",
    "        # Video Thumbnail URL\n",
    "        thumbnail_url = video_element.find('img')['src']\n",
    "        video_thumbnails.append(thumbnail_url)\n",
    "\n",
    "        # Video Title\n",
    "        video_title = video_element.find('span', class_='style-scope').text\n",
    "        video_titles.append(video_title)\n",
    "\n",
    "        # Video Views (You may need to inspect the HTML structure for the correct selector)\n",
    "        video_views_element = video_element.find('span', class_='style-scope ytd-grid-video-renderer')\n",
    "        video_views.append(video_views_element.text.strip())\n",
    "\n",
    "        # Video Posting Time (You may need to inspect the HTML structure for the correct selector)\n",
    "        video_posting_time = video_element.find('span', class_='style-scope ytd-grid-video-renderer')\n",
    "        video_posting_times.append(video_posting_time.text.strip())\n",
    "\n",
    "    # Create a CSV file to save the data\n",
    "    with open('youtube_data.csv', 'w', newline='', encoding='utf-8') as csvfile:\n",
    "        writer = csv.writer(csvfile)\n",
    "        writer.writerow(['Video URL', 'Thumbnail URL', 'Title', 'Views', 'Posting Time'])\n",
    "        for i in range(5):\n",
    "            writer.writerow([video_urls[i], video_thumbnails[i], video_titles[i], video_views[i], video_posting_times[i]])\n",
    "\n",
    "    print(\"Data scraped and saved to youtube_data.csv\")\n",
    "else:\n",
    "    print(\"Failed to retrieve the web page.\")\n",
    "\n"
   ]
  },
  {
   "cell_type": "code",
   "execution_count": null,
   "id": "04b24113-2027-4362-8c56-5f8e369d38b0",
   "metadata": {},
   "outputs": [],
   "source": []
  }
 ],
 "metadata": {
  "kernelspec": {
   "display_name": "Python 3 (ipykernel)",
   "language": "python",
   "name": "python3"
  },
  "language_info": {
   "codemirror_mode": {
    "name": "ipython",
    "version": 3
   },
   "file_extension": ".py",
   "mimetype": "text/x-python",
   "name": "python",
   "nbconvert_exporter": "python",
   "pygments_lexer": "ipython3",
   "version": "3.10.8"
  }
 },
 "nbformat": 4,
 "nbformat_minor": 5
}
